{
 "cells": [
  {
   "cell_type": "markdown",
   "id": "92778525",
   "metadata": {},
   "source": [
    "# Assignment 3: Non-Linear Models and Validation Metrics (37 total marks)\n",
    "### Due: October 24 at 11:59pm\n",
    "\n",
    "### Name: Mevin Moncy"
   ]
  },
  {
   "cell_type": "markdown",
   "id": "ce31b39a",
   "metadata": {},
   "source": [
    "### In this assignment, you will need to write code that uses non-linear models to perform classification and regression tasks. You will also be asked to describe the process by which you came up with the code. More details can be found below. Please cite any websites or AI tools that you used to help you with this assignment."
   ]
  },
  {
   "cell_type": "markdown",
   "id": "cf275ca7",
   "metadata": {},
   "source": [
    "### Import Libraries"
   ]
  },
  {
   "cell_type": "code",
   "execution_count": 1,
   "id": "2b67a661",
   "metadata": {},
   "outputs": [],
   "source": [
    "import numpy as np\n",
    "import pandas as pd\n",
    "import matplotlib.pyplot as plt\n",
    "import seaborn as sns"
   ]
  },
  {
   "cell_type": "markdown",
   "id": "5ee2d2c3",
   "metadata": {},
   "source": [
    "## Part 1: Regression (14.5 marks)\n",
    "\n",
    "For this section, we will be continuing with the concrete example from yellowbrick. You will need to compare these results to the results from the previous assignment. Please use the results from the solution if you were unable to complete Assignment 2"
   ]
  },
  {
   "cell_type": "markdown",
   "id": "8219f163",
   "metadata": {},
   "source": [
    "### Step 1: Data Input (0.5 marks)\n",
    "\n",
    "The data used for this task can be downloaded using the yellowbrick library: \n",
    "https://www.scikit-yb.org/en/latest/api/datasets/concrete.html\n",
    "\n",
    "Use the yellowbrick function `load_concrete()` to load the concrete dataset into the feature matrix `X` and target vector `y`."
   ]
  },
  {
   "cell_type": "code",
   "execution_count": 2,
   "id": "2af8bd32",
   "metadata": {},
   "outputs": [],
   "source": [
    "# TO DO: Import concrete dataset from yellowbrick library\n",
    "from yellowbrick.datasets import load_concrete\n",
    "X,y = load_concrete()\n"
   ]
  },
  {
   "cell_type": "markdown",
   "id": "42fea4cc",
   "metadata": {},
   "source": [
    "### Step 2: Data Processing (0 marks)\n",
    "\n",
    "Data processing was completed in the previous assignment. No need to repeat here."
   ]
  },
  {
   "cell_type": "markdown",
   "id": "2a245d00",
   "metadata": {},
   "source": [
    "### Step 3: Implement Machine Learning Model\n",
    "\n",
    "1. Import the Decision Tree, Random Forest and Gradient Boosting Machines regression models from sklearn\n",
    "2. Instantiate the three models with `max_depth = 5`. Are there any other parameters that you will need to set? - ans random state??\n",
    "3. Implement each machine learning model with `X` and `y`"
   ]
  },
  {
   "cell_type": "code",
   "execution_count": 3,
   "id": "e0a2d2b8",
   "metadata": {},
   "outputs": [
    {
     "data": {
      "text/html": [
       "<style>#sk-container-id-1 {color: black;}#sk-container-id-1 pre{padding: 0;}#sk-container-id-1 div.sk-toggleable {background-color: white;}#sk-container-id-1 label.sk-toggleable__label {cursor: pointer;display: block;width: 100%;margin-bottom: 0;padding: 0.3em;box-sizing: border-box;text-align: center;}#sk-container-id-1 label.sk-toggleable__label-arrow:before {content: \"▸\";float: left;margin-right: 0.25em;color: #696969;}#sk-container-id-1 label.sk-toggleable__label-arrow:hover:before {color: black;}#sk-container-id-1 div.sk-estimator:hover label.sk-toggleable__label-arrow:before {color: black;}#sk-container-id-1 div.sk-toggleable__content {max-height: 0;max-width: 0;overflow: hidden;text-align: left;background-color: #f0f8ff;}#sk-container-id-1 div.sk-toggleable__content pre {margin: 0.2em;color: black;border-radius: 0.25em;background-color: #f0f8ff;}#sk-container-id-1 input.sk-toggleable__control:checked~div.sk-toggleable__content {max-height: 200px;max-width: 100%;overflow: auto;}#sk-container-id-1 input.sk-toggleable__control:checked~label.sk-toggleable__label-arrow:before {content: \"▾\";}#sk-container-id-1 div.sk-estimator input.sk-toggleable__control:checked~label.sk-toggleable__label {background-color: #d4ebff;}#sk-container-id-1 div.sk-label input.sk-toggleable__control:checked~label.sk-toggleable__label {background-color: #d4ebff;}#sk-container-id-1 input.sk-hidden--visually {border: 0;clip: rect(1px 1px 1px 1px);clip: rect(1px, 1px, 1px, 1px);height: 1px;margin: -1px;overflow: hidden;padding: 0;position: absolute;width: 1px;}#sk-container-id-1 div.sk-estimator {font-family: monospace;background-color: #f0f8ff;border: 1px dotted black;border-radius: 0.25em;box-sizing: border-box;margin-bottom: 0.5em;}#sk-container-id-1 div.sk-estimator:hover {background-color: #d4ebff;}#sk-container-id-1 div.sk-parallel-item::after {content: \"\";width: 100%;border-bottom: 1px solid gray;flex-grow: 1;}#sk-container-id-1 div.sk-label:hover label.sk-toggleable__label {background-color: #d4ebff;}#sk-container-id-1 div.sk-serial::before {content: \"\";position: absolute;border-left: 1px solid gray;box-sizing: border-box;top: 0;bottom: 0;left: 50%;z-index: 0;}#sk-container-id-1 div.sk-serial {display: flex;flex-direction: column;align-items: center;background-color: white;padding-right: 0.2em;padding-left: 0.2em;position: relative;}#sk-container-id-1 div.sk-item {position: relative;z-index: 1;}#sk-container-id-1 div.sk-parallel {display: flex;align-items: stretch;justify-content: center;background-color: white;position: relative;}#sk-container-id-1 div.sk-item::before, #sk-container-id-1 div.sk-parallel-item::before {content: \"\";position: absolute;border-left: 1px solid gray;box-sizing: border-box;top: 0;bottom: 0;left: 50%;z-index: -1;}#sk-container-id-1 div.sk-parallel-item {display: flex;flex-direction: column;z-index: 1;position: relative;background-color: white;}#sk-container-id-1 div.sk-parallel-item:first-child::after {align-self: flex-end;width: 50%;}#sk-container-id-1 div.sk-parallel-item:last-child::after {align-self: flex-start;width: 50%;}#sk-container-id-1 div.sk-parallel-item:only-child::after {width: 0;}#sk-container-id-1 div.sk-dashed-wrapped {border: 1px dashed gray;margin: 0 0.4em 0.5em 0.4em;box-sizing: border-box;padding-bottom: 0.4em;background-color: white;}#sk-container-id-1 div.sk-label label {font-family: monospace;font-weight: bold;display: inline-block;line-height: 1.2em;}#sk-container-id-1 div.sk-label-container {text-align: center;}#sk-container-id-1 div.sk-container {/* jupyter's `normalize.less` sets `[hidden] { display: none; }` but bootstrap.min.css set `[hidden] { display: none !important; }` so we also need the `!important` here to be able to override the default hidden behavior on the sphinx rendered scikit-learn.org. See: https://github.com/scikit-learn/scikit-learn/issues/21755 */display: inline-block !important;position: relative;}#sk-container-id-1 div.sk-text-repr-fallback {display: none;}</style><div id=\"sk-container-id-1\" class=\"sk-top-container\"><div class=\"sk-text-repr-fallback\"><pre>GradientBoostingRegressor(max_depth=5, random_state=0)</pre><b>In a Jupyter environment, please rerun this cell to show the HTML representation or trust the notebook. <br />On GitHub, the HTML representation is unable to render, please try loading this page with nbviewer.org.</b></div><div class=\"sk-container\" hidden><div class=\"sk-item\"><div class=\"sk-estimator sk-toggleable\"><input class=\"sk-toggleable__control sk-hidden--visually\" id=\"sk-estimator-id-1\" type=\"checkbox\" checked><label for=\"sk-estimator-id-1\" class=\"sk-toggleable__label sk-toggleable__label-arrow\">GradientBoostingRegressor</label><div class=\"sk-toggleable__content\"><pre>GradientBoostingRegressor(max_depth=5, random_state=0)</pre></div></div></div></div></div>"
      ],
      "text/plain": [
       "GradientBoostingRegressor(max_depth=5, random_state=0)"
      ]
     },
     "execution_count": 3,
     "metadata": {},
     "output_type": "execute_result"
    }
   ],
   "source": [
    "\n",
    "from sklearn.tree import DecisionTreeRegressor\n",
    "from sklearn.ensemble import RandomForestRegressor\n",
    "from sklearn.ensemble import GradientBoostingRegressor\n",
    "from sklearn.model_selection import train_test_split\n",
    "#------\n",
    "\n",
    "X_train_tree, X_val_tree, y_train_tree, y_val_tree = train_test_split(X, y, random_state=0)\n",
    "tree = DecisionTreeRegressor(max_depth=5, random_state=0)\n",
    "tree.fit(X_train_tree,y_train_tree)\n",
    "\n",
    "\n",
    "X_train_forest, X_val_forest, y_train_forest, y_val_forest = train_test_split(X, y, random_state=0)\n",
    "forest = RandomForestRegressor(max_depth=5, random_state=0)\n",
    "forest.fit(X_train_forest,y_train_forest)\n",
    "\n",
    "\n",
    "X_train_gbm, X_val_gbm, y_train_gbm, y_val_gbm = train_test_split(X, y, random_state=0)\n",
    "gbm = GradientBoostingRegressor(max_depth= 5, random_state=0)\n",
    "gbm.fit(X_train_gbm,y_train_gbm) #n_estimators=100, learning_rate=0.1\n",
    "\n",
    "\n",
    "\n",
    "\n"
   ]
  },
  {
   "cell_type": "markdown",
   "id": "3f994e31",
   "metadata": {},
   "source": [
    "### Step 4: Validate Model\n",
    "\n",
    "Calculate the average training and validation accuracy using mean squared error with cross-validation. To do this, you will need to set `scoring='neg_mean_squared_error'` in your `cross_validate` function and negate the results (multiply by -1)"
   ]
  },
  {
   "cell_type": "code",
   "execution_count": 4,
   "id": "c3e1ad74",
   "metadata": {},
   "outputs": [
    {
     "name": "stdout",
     "output_type": "stream",
     "text": [
      "Tree - MSE Training score:  47.279760500220995\n",
      "Tree - Validition score:  73.44733108555468\n",
      "\n",
      "Forest - MSE Training score:  29.577454563550077\n",
      "Forest - MSE Validition score:  45.059350642815076\n",
      "\n",
      "gbm - MSE Training score:  3.3794401902757087\n",
      "gbm - MSE Validition score:  22.78322087027339\n",
      "\n"
     ]
    }
   ],
   "source": [
    "#Calculate the average training and validation accuracy using mean squared \n",
    "# error with cross-validation.\n",
    "from sklearn.model_selection import cross_validate\n",
    "\n",
    "tree_train_scores = cross_validate(tree, X_train_tree, y_train_tree,scoring='neg_mean_squared_error', cv=5, return_train_score=True) \n",
    "\n",
    "tree_train_scores1= tree_train_scores['train_score'].mean() *-1\n",
    "tree_train_scores2 = tree_train_scores['test_score'].mean() *-1\n",
    "\n",
    "print(\"Tree - MSE Training score: \", tree_train_scores1)\n",
    "print(\"Tree - Validition score: \", tree_train_scores2)\n",
    "print()\n",
    "\n",
    "#----\n",
    "forest_train_scores = cross_validate(forest, X_train_forest, y_train_forest,scoring='neg_mean_squared_error', cv=5, return_train_score=True) \n",
    "\n",
    "forest_train_scores1 = forest_train_scores['train_score'].mean() *-1\n",
    "forest_train_scores2 = forest_train_scores['test_score'].mean() *-1\n",
    "\n",
    "print(\"Forest - MSE Training score: \", forest_train_scores1)\n",
    "print(\"Forest - MSE Validition score: \", forest_train_scores2)\n",
    "print()\n",
    "# #-----\n",
    "gbm_train_scores = cross_validate(gbm, X_train_gbm, y_train_gbm,scoring='neg_mean_squared_error', cv=5, return_train_score=True)\n",
    " \n",
    "\n",
    "gbm_train_scores1 = gbm_train_scores['train_score'].mean() *-1\n",
    "gbm_train_scores2 = gbm_train_scores['test_score'].mean() *-1\n",
    "\n",
    "print(\"gbm - MSE Training score: \", gbm_train_scores1)\n",
    "print(\"gbm - MSE Validition score: \", gbm_train_scores2)\n",
    "print()\n"
   ]
  },
  {
   "cell_type": "markdown",
   "id": "5fc3f7a8",
   "metadata": {},
   "source": [
    "### Step 5: Visualize Results (4 marks)\n",
    "\n",
    "1. Create a pandas DataFrame `results` with columns: Training accuracy and Validation accuracy, and index: DT, RF and GB\n",
    "2. Add the accuracy results to the `results` DataFrame\n",
    "3. Print `results`"
   ]
  },
  {
   "cell_type": "code",
   "execution_count": 5,
   "id": "fdc93a78",
   "metadata": {},
   "outputs": [
    {
     "name": "stdout",
     "output_type": "stream",
     "text": [
      "Tree - MSE Training score:  47.28\n",
      "Tree - Validition score:  73.447\n",
      "\n",
      "Forest - MSE Training score:  29.577\n",
      "Forest - MSE Validition score:  45.059\n",
      "\n",
      "gbm - MSE Training score:  3.379\n",
      "gbm - MSE Validition score:  22.783\n",
      "\n"
     ]
    },
    {
     "data": {
      "text/html": [
       "<div>\n",
       "<style scoped>\n",
       "    .dataframe tbody tr th:only-of-type {\n",
       "        vertical-align: middle;\n",
       "    }\n",
       "\n",
       "    .dataframe tbody tr th {\n",
       "        vertical-align: top;\n",
       "    }\n",
       "\n",
       "    .dataframe thead th {\n",
       "        text-align: right;\n",
       "    }\n",
       "</style>\n",
       "<table border=\"1\" class=\"dataframe\">\n",
       "  <thead>\n",
       "    <tr style=\"text-align: right;\">\n",
       "      <th></th>\n",
       "      <th>Training Accuracy</th>\n",
       "      <th>Validation Accuracy</th>\n",
       "    </tr>\n",
       "  </thead>\n",
       "  <tbody>\n",
       "    <tr>\n",
       "      <th>DT</th>\n",
       "      <td>47.28</td>\n",
       "      <td>73.447</td>\n",
       "    </tr>\n",
       "    <tr>\n",
       "      <th>RF</th>\n",
       "      <td>29.577</td>\n",
       "      <td>45.059</td>\n",
       "    </tr>\n",
       "    <tr>\n",
       "      <th>GB</th>\n",
       "      <td>3.379</td>\n",
       "      <td>22.783</td>\n",
       "    </tr>\n",
       "  </tbody>\n",
       "</table>\n",
       "</div>"
      ],
      "text/plain": [
       "   Training Accuracy Validation Accuracy\n",
       "DT             47.28              73.447\n",
       "RF            29.577              45.059\n",
       "GB             3.379              22.783"
      ]
     },
     "execution_count": 5,
     "metadata": {},
     "output_type": "execute_result"
    }
   ],
   "source": [
    "# TO DO: ADD YOUR CODE HERE FOR STEPS 3-5\n",
    "# Note: for any random state parameters, you can use random_state = 0\n",
    "# HINT: USING A LOOP TO STORE THE DATA IN YOUR RESULTS DATAFRAME WILL BE MORE EFFICIENT\n",
    "\n",
    "\n",
    "\n",
    "\n",
    "\n",
    "from sklearn.tree import DecisionTreeRegressor\n",
    "from sklearn.ensemble import RandomForestRegressor\n",
    "from sklearn.ensemble import GradientBoostingRegressor\n",
    "from sklearn.model_selection import train_test_split\n",
    "#------\n",
    "\n",
    "X_train_tree, X_val_tree, y_train_tree, y_val_tree = train_test_split(X, y, random_state=0)\n",
    "tree = DecisionTreeRegressor(max_depth=5, random_state=0)\n",
    "tree.fit(X_train_tree,y_train_tree)\n",
    "\n",
    "\n",
    "X_train_forest, X_val_forest, y_train_forest, y_val_forest = train_test_split(X, y, random_state=0)\n",
    "forest = RandomForestRegressor(max_depth=5, random_state=0)\n",
    "forest.fit(X_train_forest,y_train_forest)\n",
    "\n",
    "\n",
    "X_train_gbm, X_val_gbm, y_train_gbm, y_val_gbm = train_test_split(X, y, random_state=0)\n",
    "gbm = GradientBoostingRegressor(max_depth= 5, random_state=0)\n",
    "gbm.fit(X_train_gbm,y_train_gbm) #n_estimators=100, learning_rate=0.1\n",
    "\n",
    "\n",
    "\n",
    "#-------\n",
    "#Calculate the average training and validation accuracy using mean squared \n",
    "# error with cross-validation.\n",
    "from sklearn.model_selection import cross_validate\n",
    "\n",
    "tree_train_scores = cross_validate(tree, X_train_tree, y_train_tree,scoring='neg_mean_squared_error', cv=5, return_train_score=True) \n",
    "\n",
    "tree_train_scores1= tree_train_scores['train_score'].mean() *-1\n",
    "tree_train_scores2 = tree_train_scores['test_score'].mean() *-1\n",
    "\n",
    "tree_train_scores1 = round(tree_train_scores1, 3)\n",
    "tree_train_scores2 = round(tree_train_scores2, 3)\n",
    "\n",
    "print(\"Tree - MSE Training score: \", tree_train_scores1)\n",
    "print(\"Tree - Validition score: \", tree_train_scores2)\n",
    "print()\n",
    "\n",
    "#----\n",
    "forest_train_scores = cross_validate(forest, X_train_forest, y_train_forest,scoring='neg_mean_squared_error', cv=5, return_train_score=True) \n",
    "\n",
    "forest_train_scores1 = forest_train_scores['train_score'].mean() *-1\n",
    "forest_train_scores2 = forest_train_scores['test_score'].mean() *-1\n",
    "\n",
    "forest_train_scores1 = round(forest_train_scores1, 3)\n",
    "forest_train_scores2 = round(forest_train_scores2, 3)\n",
    "\n",
    "print(\"Forest - MSE Training score: \", forest_train_scores1)\n",
    "print(\"Forest - MSE Validition score: \", forest_train_scores2)\n",
    "print()\n",
    "# #-----\n",
    "gbm_train_scores = cross_validate(gbm, X_train_gbm, y_train_gbm,scoring='neg_mean_squared_error', cv=5, return_train_score=True)\n",
    " \n",
    "\n",
    "gbm_train_scores1 = gbm_train_scores['train_score'].mean() *-1\n",
    "gbm_train_scores2 = gbm_train_scores['test_score'].mean() *-1\n",
    "\n",
    "gbm_train_scores1 = round(gbm_train_scores1, 3)\n",
    "gbm_train_scores2 = round(gbm_train_scores2, 3)\n",
    "\n",
    "print(\"gbm - MSE Training score: \", gbm_train_scores1)\n",
    "print(\"gbm - MSE Validition score: \", gbm_train_scores2)\n",
    "print()\n",
    "\n",
    "\n",
    "#------------------\n",
    "results = pd.DataFrame(columns=[\"Training Accuracy\", \"Validation Accuracy\"], index=[\"DT\", \"RF\", \"GB\"])\n",
    "results.loc[\"DT\"] = [tree_train_scores1, tree_train_scores2]\n",
    "results.loc[\"RF\"] = [forest_train_scores1, forest_train_scores2]\n",
    "results.loc[\"GB\"] = [gbm_train_scores1, gbm_train_scores2]\n",
    "results"
   ]
  },
  {
   "cell_type": "markdown",
   "id": "31715a9d",
   "metadata": {},
   "source": [
    "Repeat the step above to print the R2 score instead of the mean-squared error. For this case, you can use `scoring='r2'`"
   ]
  },
  {
   "cell_type": "code",
   "execution_count": 6,
   "id": "83539f47",
   "metadata": {},
   "outputs": [
    {
     "name": "stdout",
     "output_type": "stream",
     "text": [
      "Tree - R2 Training score:  0.834\n",
      "Tree - R2 Validition score:  0.739\n",
      "\n",
      "Forest - R2 Training score:  0.897\n",
      "Forest - R2 Validition score:  0.841\n",
      "\n",
      "GBM - R2 Training score:  0.988\n",
      "GBM - R2 Validition score:  0.919\n",
      "\n"
     ]
    },
    {
     "data": {
      "text/html": [
       "<div>\n",
       "<style scoped>\n",
       "    .dataframe tbody tr th:only-of-type {\n",
       "        vertical-align: middle;\n",
       "    }\n",
       "\n",
       "    .dataframe tbody tr th {\n",
       "        vertical-align: top;\n",
       "    }\n",
       "\n",
       "    .dataframe thead th {\n",
       "        text-align: right;\n",
       "    }\n",
       "</style>\n",
       "<table border=\"1\" class=\"dataframe\">\n",
       "  <thead>\n",
       "    <tr style=\"text-align: right;\">\n",
       "      <th></th>\n",
       "      <th>Training Accuracy</th>\n",
       "      <th>Validation Accuracy</th>\n",
       "    </tr>\n",
       "  </thead>\n",
       "  <tbody>\n",
       "    <tr>\n",
       "      <th>DT</th>\n",
       "      <td>0.834</td>\n",
       "      <td>0.739</td>\n",
       "    </tr>\n",
       "    <tr>\n",
       "      <th>RF</th>\n",
       "      <td>0.897</td>\n",
       "      <td>0.841</td>\n",
       "    </tr>\n",
       "    <tr>\n",
       "      <th>GB</th>\n",
       "      <td>0.988</td>\n",
       "      <td>0.919</td>\n",
       "    </tr>\n",
       "  </tbody>\n",
       "</table>\n",
       "</div>"
      ],
      "text/plain": [
       "   Training Accuracy Validation Accuracy\n",
       "DT             0.834               0.739\n",
       "RF             0.897               0.841\n",
       "GB             0.988               0.919"
      ]
     },
     "execution_count": 6,
     "metadata": {},
     "output_type": "execute_result"
    }
   ],
   "source": [
    "# TO DO: ADD YOUR CODE HERE\n",
    "#Calculate the average training and validation accuracy using mean squared \n",
    "# error with cross-validation.\n",
    "from sklearn.model_selection import cross_validate\n",
    "\n",
    "tree_train_scores = cross_validate(tree, X_train_tree, y_train_tree,scoring='r2', cv=5, return_train_score=True) \n",
    "\n",
    "tree_train_scores1= tree_train_scores['train_score'].mean() \n",
    "tree_train_scores2 = tree_train_scores['test_score'].mean() \n",
    "\n",
    "tree_train_scores1 = round(tree_train_scores1, 3)\n",
    "tree_train_scores2 = round(tree_train_scores2, 3)\n",
    "\n",
    "print(\"Tree - R2 Training score: \", tree_train_scores1)\n",
    "print(\"Tree - R2 Validition score: \", tree_train_scores2)\n",
    "print()\n",
    "\n",
    "#----\n",
    "forest_train_scores = cross_validate(forest, X_train_forest, y_train_forest,scoring='r2', cv=5, return_train_score=True) \n",
    "\n",
    "forest_train_scores1 = forest_train_scores['train_score'].mean() \n",
    "forest_train_scores2 = forest_train_scores['test_score'].mean() \n",
    "\n",
    "forest_train_scores1 = round(forest_train_scores1, 3)\n",
    "forest_train_scores2 = round(forest_train_scores2, 3)\n",
    "\n",
    "print(\"Forest - R2 Training score: \", forest_train_scores1)\n",
    "print(\"Forest - R2 Validition score: \", forest_train_scores2)\n",
    "print()\n",
    "# #-----\n",
    "gbm_train_scores = cross_validate(gbm, X_train_gbm, y_train_gbm,scoring='r2', cv=5, return_train_score=True)\n",
    " \n",
    "\n",
    "gbm_train_scores1 = gbm_train_scores['train_score'].mean() \n",
    "gbm_train_scores2 = gbm_train_scores['test_score'].mean() \n",
    "\n",
    "gbm_train_scores1 = round(gbm_train_scores1, 3)\n",
    "gbm_train_scores2 = round(gbm_train_scores2, 3)\n",
    "\n",
    "print(\"GBM - R2 Training score: \", gbm_train_scores1)\n",
    "print(\"GBM - R2 Validition score: \", gbm_train_scores2)\n",
    "print()\n",
    "\n",
    "#-----\n",
    "results = pd.DataFrame(columns=[\"Training Accuracy\", \"Validation Accuracy\"], index=[\"DT\", \"RF\", \"GB\"])\n",
    "results.loc[\"DT\"] = [tree_train_scores1, tree_train_scores2]\n",
    "results.loc[\"RF\"] = [forest_train_scores1, forest_train_scores2]\n",
    "results.loc[\"GB\"] = [gbm_train_scores1, gbm_train_scores2]\n",
    "\n",
    "results"
   ]
  },
  {
   "cell_type": "markdown",
   "id": "b95cf5fb",
   "metadata": {},
   "source": [
    "DT = IS high variance becuase there .1 difference, therefore overfittign can be observed\n",
    "\n",
    "RF= BETTER than DT\n",
    "\n",
    "GB = perfmored the best, but can tweak the model to have validation to be close to training\n"
   ]
  },
  {
   "cell_type": "markdown",
   "id": "a5257a98",
   "metadata": {},
   "source": [
    "### Questions (6 marks)\n",
    "1. How do these results compare to the results using a linear model in the previous assignment? Use values.\n",
    "1. Out of the models you tested, which model would you select for this dataset and why?\n",
    "1. If you wanted to increase the accuracy of the tree-based models, what would you do? Provide two suggestions.\n",
    "\n",
    "\n",
    "Answer 1: In Assignment 2 for linear regression, the R2 training score was 0.611 and validation score was 0.623, and MSE was 111.35 for training score and 95.904 for validation score. But compared to this assignment 3's non-linear model, the training and validation accuracy was are much better for both R2 and MSE score for assignment 3 than assignment 2 linear regressgion model. From the results from assignment 3, the Gradient Boosting model was 0.988 for training score , and 0.919 for for validation score, for R2 score. And for MSE score it was 3.379 for training and 22.783 for validation score. For Decision tree, for R2 score it was 0.834 for training and 0.739 for validation, and the MSE is 47.28 for training and 73.447 for validation score. For Random forest, the R2 score was 0.897 for training and 0.841 for validation, and for MSE it was 29.577 for training score and for validation it was 45.059.\n",
    "\n",
    "Answer 2: Gradient Boosting Regressor model performed the best for both R2 and MSE. The R2 score was 0.988 for training and the validation score was 0.919, and the MSE score was 3.379 for training and 22.783 for validation score.Therefore I would select this model for this data set. These scores indicate that the model performed very well compared to the other models used. \n",
    "\n",
    "Answer 3: To increase the accuracy of the tree based models, I would tune the hyperparameters, such as Max depth. By adjusting for max depth it can increase the accuracy.\n",
    "Another suggestion is to use feature selection this will allow to extract features imptantant scores. We can use this information to select a subset of the most important features, which can lead to a more focused model"
   ]
  },
  {
   "cell_type": "markdown",
   "id": "37b238f4",
   "metadata": {},
   "source": [
    "### Process Description (4 marks)\n",
    "Please describe the process you used to create your code. Cite any websites or generative AI tools used. You can use the following questions as guidance:\n",
    "1. Where did you source your code?\n",
    "1. In what order did you complete the steps?\n",
    "1. If you used generative AI, what prompts did you use? Did you need to modify the code at all? Why or why not?\n",
    "1. Did you have any challenges? If yes, what were they? If not, what helped you to be successful?"
   ]
  },
  {
   "cell_type": "markdown",
   "id": "93097bfe",
   "metadata": {},
   "source": [
    "Answer 1:\n",
    "I used the previous assignment 2 and the exmaples as reference to source my code.\n",
    "\n",
    "Answer 2:\n",
    "I started from step 1 to start the problem and worked down to complete this exercise.\n",
    "\n",
    "Answer 3:\n",
    "I used ChatGPT as the generative AI. I used the prompt \"How to import cross_validation in Machine Learning\". No, i did not modify the code becuase there is a structure to importing cross_validation, or else the import wont work.\n",
    "\n",
    "Link: https://chat.openai.com/\n",
    "\n",
    "Answer 4:\n",
    "No, I did not have any challenges. What made me successful is that, i used the previous examples and the examples showed in class to do this part of the assignment. By following those two, I was able to compelete this part.\n"
   ]
  },
  {
   "cell_type": "markdown",
   "id": "f7c6de86",
   "metadata": {},
   "source": [
    "## Part 2: Classification (17.5 marks)\n",
    "\n",
    "You have been asked to develop code that can help the user classify different wine samples. Following the machine learning workflow described in class, write the relevant code in each of the steps below:"
   ]
  },
  {
   "cell_type": "markdown",
   "id": "5f9d33a8",
   "metadata": {},
   "source": [
    "### Step 1: Data Input (2 marks)\n",
    "\n",
    "The data used for this task can be downloaded from UCI: https://archive.ics.uci.edu/dataset/109/wine\n",
    "\n",
    "Use the pandas library to load the dataset. You must define the column headers if they are not included in the dataset \n",
    "\n",
    "You will need to split the dataset into feature matrix `X` and target vector `y`. Which column represents the target vector? - The column named Alcohol will be the target vector\n",
    "\n",
    "Print the size and type of `X` and `y`"
   ]
  },
  {
   "cell_type": "code",
   "execution_count": 7,
   "id": "33583c67",
   "metadata": {},
   "outputs": [
    {
     "name": "stdout",
     "output_type": "stream",
     "text": [
      "Shape of X:  (178, 13)\n",
      "Shape of y:  (178,)\n",
      "Type of X:  <class 'pandas.core.frame.DataFrame'>\n",
      "Type of y:  <class 'pandas.core.series.Series'>\n"
     ]
    }
   ],
   "source": [
    "# TO DO: Import wine dataset\n",
    "import os\n",
    "import requests\n",
    "\n",
    "file_url = \"https://archive.ics.uci.edu/ml/machine-learning-databases/wine/wine.data\"\n",
    "file_name = file_url.split('/')[-1]\n",
    "\n",
    "if not os.path.isfile(file_name):\n",
    "        print('Downloading from {}'.format(file_url))\n",
    "        r = requests.get(file_url)\n",
    "        with open(file_name,'wb') as output_file:\n",
    "            output_file.write(r.content)\n",
    "            \n",
    "column_names = ['class','Alcohol', 'Malic Acid', 'Ash', 'Alcalinity of Ash', 'Magnesium', 'Total Phenols', \n",
    "                'Flavanoids', 'Nonflavanoid Phenols', 'Proanthocyanins', 'Color Intensity', \n",
    "                'Hue', 'OD280/OD315 of diluted wines', 'Proline']\n",
    "\n",
    "\n",
    "data = pd.read_csv(file_url,na_values='?',  names=column_names)\n",
    "\n",
    "X = data.drop(columns='class')\n",
    "y = data['class']\n",
    "\n",
    "print(\"Shape of X: \",X.shape)\n",
    "print(\"Shape of y: \",y.shape)\n",
    "print(\"Type of X: \",type(X))\n",
    "print(\"Type of y: \",type(y))\n",
    "\n",
    "\n",
    "\n"
   ]
  },
  {
   "cell_type": "markdown",
   "id": "156db208",
   "metadata": {},
   "source": [
    "### Step 2: Data Processing (1.5 marks)"
   ]
  },
  {
   "cell_type": "markdown",
   "id": "a28af110",
   "metadata": {},
   "source": [
    "Print the first five rows of the dataset to inspect:"
   ]
  },
  {
   "cell_type": "code",
   "execution_count": 8,
   "id": "ea266921",
   "metadata": {},
   "outputs": [
    {
     "name": "stdout",
     "output_type": "stream",
     "text": [
      "   class  Alcohol  Malic Acid   Ash  Alcalinity of Ash  Magnesium  \\\n",
      "0      1    14.23        1.71  2.43               15.6        127   \n",
      "1      1    13.20        1.78  2.14               11.2        100   \n",
      "2      1    13.16        2.36  2.67               18.6        101   \n",
      "3      1    14.37        1.95  2.50               16.8        113   \n",
      "4      1    13.24        2.59  2.87               21.0        118   \n",
      "\n",
      "   Total Phenols  Flavanoids  Nonflavanoid Phenols  Proanthocyanins  \\\n",
      "0           2.80        3.06                  0.28             2.29   \n",
      "1           2.65        2.76                  0.26             1.28   \n",
      "2           2.80        3.24                  0.30             2.81   \n",
      "3           3.85        3.49                  0.24             2.18   \n",
      "4           2.80        2.69                  0.39             1.82   \n",
      "\n",
      "   Color Intensity   Hue  OD280/OD315 of diluted wines  Proline  \n",
      "0             5.64  1.04                          3.92     1065  \n",
      "1             4.38  1.05                          3.40     1050  \n",
      "2             5.68  1.03                          3.17     1185  \n",
      "3             7.80  0.86                          3.45     1480  \n",
      "4             4.32  1.04                          2.93      735  \n"
     ]
    }
   ],
   "source": [
    "# TO DO: ADD YOUR CODE HERE\n",
    "print(data.head(5))"
   ]
  },
  {
   "cell_type": "markdown",
   "id": "834fc8fe",
   "metadata": {},
   "source": [
    "Check to see if there are any missing values in the dataset. If necessary, select an appropriate method to fill-in the missing values"
   ]
  },
  {
   "cell_type": "code",
   "execution_count": 9,
   "id": "97c6e9dc",
   "metadata": {},
   "outputs": [
    {
     "name": "stdout",
     "output_type": "stream",
     "text": [
      "0\n"
     ]
    }
   ],
   "source": [
    "# TO DO: ADD YOUR CODE HERE\n",
    "print(data.isnull().sum().sum())\n",
    "\n"
   ]
  },
  {
   "cell_type": "markdown",
   "id": "070956af",
   "metadata": {},
   "source": [
    "How many samples do we have of each type of wine?"
   ]
  },
  {
   "cell_type": "code",
   "execution_count": 10,
   "id": "b37a6fd9",
   "metadata": {},
   "outputs": [
    {
     "data": {
      "text/plain": [
       "2    71\n",
       "1    59\n",
       "3    48\n",
       "Name: class, dtype: int64"
      ]
     },
     "execution_count": 10,
     "metadata": {},
     "output_type": "execute_result"
    }
   ],
   "source": [
    "# TO DO: ADD YOUR CODE HERE\n",
    "y.value_counts()"
   ]
  },
  {
   "cell_type": "markdown",
   "id": "70e6c46f",
   "metadata": {},
   "source": [
    "### Step 3: Implement Machine Learning Model\n",
    "\n",
    "1. Import `SVC` and `DecisionTreeClassifier` from sklearn\n",
    "2. Instantiate models as `SVC()` and `DecisionTreeClassifier(max_depth = 3)`\n",
    "3. Implement the machine learning model with `X` and `y`"
   ]
  },
  {
   "cell_type": "code",
   "execution_count": 11,
   "id": "0843a3c6",
   "metadata": {},
   "outputs": [
    {
     "data": {
      "text/html": [
       "<style>#sk-container-id-2 {color: black;}#sk-container-id-2 pre{padding: 0;}#sk-container-id-2 div.sk-toggleable {background-color: white;}#sk-container-id-2 label.sk-toggleable__label {cursor: pointer;display: block;width: 100%;margin-bottom: 0;padding: 0.3em;box-sizing: border-box;text-align: center;}#sk-container-id-2 label.sk-toggleable__label-arrow:before {content: \"▸\";float: left;margin-right: 0.25em;color: #696969;}#sk-container-id-2 label.sk-toggleable__label-arrow:hover:before {color: black;}#sk-container-id-2 div.sk-estimator:hover label.sk-toggleable__label-arrow:before {color: black;}#sk-container-id-2 div.sk-toggleable__content {max-height: 0;max-width: 0;overflow: hidden;text-align: left;background-color: #f0f8ff;}#sk-container-id-2 div.sk-toggleable__content pre {margin: 0.2em;color: black;border-radius: 0.25em;background-color: #f0f8ff;}#sk-container-id-2 input.sk-toggleable__control:checked~div.sk-toggleable__content {max-height: 200px;max-width: 100%;overflow: auto;}#sk-container-id-2 input.sk-toggleable__control:checked~label.sk-toggleable__label-arrow:before {content: \"▾\";}#sk-container-id-2 div.sk-estimator input.sk-toggleable__control:checked~label.sk-toggleable__label {background-color: #d4ebff;}#sk-container-id-2 div.sk-label input.sk-toggleable__control:checked~label.sk-toggleable__label {background-color: #d4ebff;}#sk-container-id-2 input.sk-hidden--visually {border: 0;clip: rect(1px 1px 1px 1px);clip: rect(1px, 1px, 1px, 1px);height: 1px;margin: -1px;overflow: hidden;padding: 0;position: absolute;width: 1px;}#sk-container-id-2 div.sk-estimator {font-family: monospace;background-color: #f0f8ff;border: 1px dotted black;border-radius: 0.25em;box-sizing: border-box;margin-bottom: 0.5em;}#sk-container-id-2 div.sk-estimator:hover {background-color: #d4ebff;}#sk-container-id-2 div.sk-parallel-item::after {content: \"\";width: 100%;border-bottom: 1px solid gray;flex-grow: 1;}#sk-container-id-2 div.sk-label:hover label.sk-toggleable__label {background-color: #d4ebff;}#sk-container-id-2 div.sk-serial::before {content: \"\";position: absolute;border-left: 1px solid gray;box-sizing: border-box;top: 0;bottom: 0;left: 50%;z-index: 0;}#sk-container-id-2 div.sk-serial {display: flex;flex-direction: column;align-items: center;background-color: white;padding-right: 0.2em;padding-left: 0.2em;position: relative;}#sk-container-id-2 div.sk-item {position: relative;z-index: 1;}#sk-container-id-2 div.sk-parallel {display: flex;align-items: stretch;justify-content: center;background-color: white;position: relative;}#sk-container-id-2 div.sk-item::before, #sk-container-id-2 div.sk-parallel-item::before {content: \"\";position: absolute;border-left: 1px solid gray;box-sizing: border-box;top: 0;bottom: 0;left: 50%;z-index: -1;}#sk-container-id-2 div.sk-parallel-item {display: flex;flex-direction: column;z-index: 1;position: relative;background-color: white;}#sk-container-id-2 div.sk-parallel-item:first-child::after {align-self: flex-end;width: 50%;}#sk-container-id-2 div.sk-parallel-item:last-child::after {align-self: flex-start;width: 50%;}#sk-container-id-2 div.sk-parallel-item:only-child::after {width: 0;}#sk-container-id-2 div.sk-dashed-wrapped {border: 1px dashed gray;margin: 0 0.4em 0.5em 0.4em;box-sizing: border-box;padding-bottom: 0.4em;background-color: white;}#sk-container-id-2 div.sk-label label {font-family: monospace;font-weight: bold;display: inline-block;line-height: 1.2em;}#sk-container-id-2 div.sk-label-container {text-align: center;}#sk-container-id-2 div.sk-container {/* jupyter's `normalize.less` sets `[hidden] { display: none; }` but bootstrap.min.css set `[hidden] { display: none !important; }` so we also need the `!important` here to be able to override the default hidden behavior on the sphinx rendered scikit-learn.org. See: https://github.com/scikit-learn/scikit-learn/issues/21755 */display: inline-block !important;position: relative;}#sk-container-id-2 div.sk-text-repr-fallback {display: none;}</style><div id=\"sk-container-id-2\" class=\"sk-top-container\"><div class=\"sk-text-repr-fallback\"><pre>DecisionTreeClassifier(max_depth=3)</pre><b>In a Jupyter environment, please rerun this cell to show the HTML representation or trust the notebook. <br />On GitHub, the HTML representation is unable to render, please try loading this page with nbviewer.org.</b></div><div class=\"sk-container\" hidden><div class=\"sk-item\"><div class=\"sk-estimator sk-toggleable\"><input class=\"sk-toggleable__control sk-hidden--visually\" id=\"sk-estimator-id-2\" type=\"checkbox\" checked><label for=\"sk-estimator-id-2\" class=\"sk-toggleable__label sk-toggleable__label-arrow\">DecisionTreeClassifier</label><div class=\"sk-toggleable__content\"><pre>DecisionTreeClassifier(max_depth=3)</pre></div></div></div></div></div>"
      ],
      "text/plain": [
       "DecisionTreeClassifier(max_depth=3)"
      ]
     },
     "execution_count": 11,
     "metadata": {},
     "output_type": "execute_result"
    }
   ],
   "source": [
    "from sklearn.svm import SVC\n",
    "from sklearn.tree import DecisionTreeClassifier\n",
    "from sklearn.model_selection import train_test_split\n",
    "\n",
    "#--\n",
    "X_train_svc,X_val_svc, y_train_svc, y_val_svc = train_test_split(X,y, random_state=0)\n",
    "svc = SVC()\n",
    "svc.fit(X_train_svc,y_train_svc)\n",
    "\n",
    "#--\n",
    "X_train_dtc,X_val_dtc, y_train_dtc, y_val_dtc = train_test_split(X,y, random_state=0)\n",
    "dtc = DecisionTreeClassifier(max_depth = 3)\n",
    "dtc.fit(X_train_dtc,y_train_dtc)\n",
    "\n"
   ]
  },
  {
   "cell_type": "markdown",
   "id": "0870b0d2",
   "metadata": {},
   "source": [
    "### Step 4: Validate Model \n",
    "\n",
    "Calculate the average training and validation accuracy using `cross_validate` for the two different models listed in Step 3. For this case, use `scoring='accuracy'`"
   ]
  },
  {
   "cell_type": "code",
   "execution_count": 12,
   "id": "4d6c2fb9",
   "metadata": {},
   "outputs": [
    {
     "name": "stdout",
     "output_type": "stream",
     "text": [
      "svc - Training Accuracy:  0.68\n",
      "svc - Validition Accuracy:  0.677\n",
      "\n",
      "Decision Tree Classifier - Training Accuracy:  0.994\n",
      "Decision Tree Classifier - Validition Accuracy:  0.872\n",
      "\n"
     ]
    }
   ],
   "source": [
    "svc_train_scores = cross_validate(svc, X_train_svc, y_train_svc,scoring='accuracy', cv=5, return_train_score=True)\n",
    "\n",
    "svc_train_scores1= svc_train_scores[\"train_score\"].mean()\n",
    "svc_train_scores2= svc_train_scores[\"test_score\"].mean()\n",
    "\n",
    "svc_train_scores1 = round(svc_train_scores1, 3)\n",
    "svc_train_scores2 = round(svc_train_scores2, 3)\n",
    "\n",
    "print(\"svc - Training Accuracy: \", svc_train_scores1)\n",
    "print(\"svc - Validition Accuracy: \", svc_train_scores2)\n",
    "print()\n",
    "#---\n",
    "dtc_train_scores = cross_validate(dtc, X_train_dtc, y_train_dtc,scoring='accuracy', cv=5, return_train_score=True) \n",
    "\n",
    "\n",
    "dtc_train_scores1= dtc_train_scores[\"train_score\"].mean()\n",
    "dtc_train_scores2= dtc_train_scores[\"test_score\"].mean()\n",
    "\n",
    "dtc_train_scores1 = round(dtc_train_scores1, 3)\n",
    "dtc_train_scores2 = round(dtc_train_scores2, 3)\n",
    "\n",
    "print(\"Decision Tree Classifier - Training Accuracy: \", dtc_train_scores1)\n",
    "print(\"Decision Tree Classifier - Validition Accuracy: \", dtc_train_scores2)\n",
    "print()"
   ]
  },
  {
   "cell_type": "markdown",
   "id": "bb0bbd83",
   "metadata": {},
   "source": [
    "### Step 5: Visualize Results (4 marks)\n",
    "\n",
    "#### Step 5.1: Compare Models\n",
    "1. Create a pandas DataFrame `results` with columns: Training accuracy and Validation accuracy\n",
    "2. Add the data size, training and validation accuracy for each dataset to the `results` DataFrame\n",
    "3. Print `results`"
   ]
  },
  {
   "cell_type": "code",
   "execution_count": 13,
   "id": "be4b5c0a",
   "metadata": {},
   "outputs": [
    {
     "name": "stdout",
     "output_type": "stream",
     "text": [
      "svc - Training Accuracy:  0.68\n",
      "svc - Validition Accuracy:  0.677\n",
      "\n",
      "Decision Tree Classifier - Training Accuracy:  0.994\n",
      "Decision Tree Classifier - Validition Accuracy:  0.879\n",
      "\n"
     ]
    },
    {
     "data": {
      "text/html": [
       "<div>\n",
       "<style scoped>\n",
       "    .dataframe tbody tr th:only-of-type {\n",
       "        vertical-align: middle;\n",
       "    }\n",
       "\n",
       "    .dataframe tbody tr th {\n",
       "        vertical-align: top;\n",
       "    }\n",
       "\n",
       "    .dataframe thead th {\n",
       "        text-align: right;\n",
       "    }\n",
       "</style>\n",
       "<table border=\"1\" class=\"dataframe\">\n",
       "  <thead>\n",
       "    <tr style=\"text-align: right;\">\n",
       "      <th></th>\n",
       "      <th>Data size</th>\n",
       "      <th>Training accuracy</th>\n",
       "      <th>Validation accuracy</th>\n",
       "    </tr>\n",
       "  </thead>\n",
       "  <tbody>\n",
       "    <tr>\n",
       "      <th>SVC</th>\n",
       "      <td>2314</td>\n",
       "      <td>0.68</td>\n",
       "      <td>0.677</td>\n",
       "    </tr>\n",
       "    <tr>\n",
       "      <th>DTC</th>\n",
       "      <td>2314</td>\n",
       "      <td>0.994</td>\n",
       "      <td>0.879</td>\n",
       "    </tr>\n",
       "  </tbody>\n",
       "</table>\n",
       "</div>"
      ],
      "text/plain": [
       "    Data size Training accuracy Validation accuracy\n",
       "SVC      2314              0.68               0.677\n",
       "DTC      2314             0.994               0.879"
      ]
     },
     "execution_count": 13,
     "metadata": {},
     "output_type": "execute_result"
    }
   ],
   "source": [
    "# TO DO: ADD YOUR CODE HERE FOR STEPS 3-5\n",
    "# Note: for any random state parameters, you can use random_state = 0\n",
    "# HINT: USING A LOOP TO STORE THE DATA IN YOUR RESULTS DATAFRAME WILL BE MORE EFFICIENT\n",
    "\n",
    "from sklearn.svm import SVC\n",
    "from sklearn.tree import DecisionTreeClassifier\n",
    "from sklearn.model_selection import train_test_split\n",
    "\n",
    "#--\n",
    "X_train_svc,X_val_svc, y_train_svc, y_val_svc = train_test_split(X,y, random_state=0)\n",
    "svc = SVC()\n",
    "svc.fit(X_train_svc,y_train_svc)\n",
    "\n",
    "#--\n",
    "X_train_dtc,X_val_dtc, y_train_dtc, y_val_dtc = train_test_split(X,y, random_state=0)\n",
    "dtc = DecisionTreeClassifier(max_depth = 3)\n",
    "dtc.fit(X_train_dtc,y_train_dtc)\n",
    "\n",
    "#-----------------------\n",
    "svc_train_scores = cross_validate(svc, X_train_svc, y_train_svc,scoring='accuracy', cv=5, return_train_score=True)\n",
    "\n",
    "svc_train_scores1= svc_train_scores[\"train_score\"].mean()\n",
    "svc_train_scores2= svc_train_scores[\"test_score\"].mean()\n",
    "\n",
    "svc_train_scores1 = round(svc_train_scores1, 3)\n",
    "svc_train_scores2 = round(svc_train_scores2, 3)\n",
    "\n",
    "print(\"svc - Training Accuracy: \", svc_train_scores1)\n",
    "print(\"svc - Validition Accuracy: \", svc_train_scores2)\n",
    "print()\n",
    "#---\n",
    "dtc_train_scores = cross_validate(dtc, X_train_dtc, y_train_dtc,scoring='accuracy', cv=5, return_train_score=True) \n",
    "\n",
    "\n",
    "dtc_train_scores1= dtc_train_scores[\"train_score\"].mean()\n",
    "dtc_train_scores2= dtc_train_scores[\"test_score\"].mean()\n",
    "\n",
    "dtc_train_scores1 = round(dtc_train_scores1, 3)\n",
    "dtc_train_scores2 = round(dtc_train_scores2, 3)\n",
    "\n",
    "print(\"Decision Tree Classifier - Training Accuracy: \", dtc_train_scores1)\n",
    "print(\"Decision Tree Classifier - Validition Accuracy: \", dtc_train_scores2)\n",
    "print()\n",
    "\n",
    "#----------------\n",
    "\n",
    "results = pd.DataFrame(columns=[\"Data size\",\"Training accuracy\",\"Validation accuracy\"], index = [\"SVC\", \"DTC\"])\n",
    "results.loc[\"SVC\"] = [X.size, svc_train_scores1,svc_train_scores2]\n",
    "results.loc[\"DTC\"] = [X.size, dtc_train_scores1,dtc_train_scores2]\n",
    "\n",
    "results"
   ]
  },
  {
   "cell_type": "markdown",
   "id": "f2e17878",
   "metadata": {},
   "source": [
    "#### Step 5.2: Visualize Classification Errors\n",
    "Which method gave the highest accuracy? Use this method to print the confusion matrix and classification report:"
   ]
  },
  {
   "cell_type": "markdown",
   "id": "8516186f",
   "metadata": {},
   "source": [
    "Decision Tree Classifier gave the highest accuracy with training being 0.994 and validation being 0.894. These score much higher than SVC becuase has a training score of 0.680 and validation score of 0.677."
   ]
  },
  {
   "cell_type": "code",
   "execution_count": 14,
   "id": "44b091a4",
   "metadata": {},
   "outputs": [
    {
     "name": "stdout",
     "output_type": "stream",
     "text": [
      "\n",
      "Confusion Matrix for Decision Tree Classifier: \n",
      " [[14  2  0]\n",
      " [ 0 20  1]\n",
      " [ 0  0  8]]\n",
      "\n"
     ]
    }
   ],
   "source": [
    "# TO DO: Implement best model\n",
    "import mglearn\n",
    "from sklearn.metrics import confusion_matrix, classification_report\n",
    "\n",
    "# Confusion Matrix and Classification Report for Decision Tree Classifier\n",
    "y_pred_dtc = dtc.predict(X_val_dtc)\n",
    "\n",
    "# Confusion Matrix\n",
    "dtc_cm = confusion_matrix(y_val_dtc, y_pred_dtc)\n",
    "print(\"\\nConfusion Matrix for Decision Tree Classifier: \\n\",dtc_cm)\n",
    "print()\n",
    "\n"
   ]
  },
  {
   "cell_type": "code",
   "execution_count": 15,
   "id": "09d21b59",
   "metadata": {},
   "outputs": [
    {
     "data": {
      "image/png": "[encoded data removed]",
      "text/plain": [
       "<Figure size 800x550 with 1 Axes>"
      ]
     },
     "metadata": {},
     "output_type": "display_data"
    }
   ],
   "source": [
    "# TO DO: Print confusion matrix using a heatmap\n",
    "\n",
    "sns.heatmap(dtc_cm, xticklabels=['1', '2', '3'],  yticklabels=['1', '2', '3'], square=True, annot=True, cbar=False)\n",
    "plt.xlabel('predicted value')\n",
    "plt.ylabel('true value')\n",
    "plt.title('Confusion Matrix for Decision Tree Classifier')\n",
    "plt.show()\n"
   ]
  },
  {
   "cell_type": "code",
   "execution_count": 16,
   "id": "5ef95947",
   "metadata": {},
   "outputs": [
    {
     "name": "stdout",
     "output_type": "stream",
     "text": [
      "\n",
      "Classification Report for Decision Tree Classifier: \n",
      "               precision    recall  f1-score   support\n",
      "\n",
      "           1       1.00      0.88      0.93        16\n",
      "           2       0.91      0.95      0.93        21\n",
      "           3       0.89      1.00      0.94         8\n",
      "\n",
      "    accuracy                           0.93        45\n",
      "   macro avg       0.93      0.94      0.93        45\n",
      "weighted avg       0.94      0.93      0.93        45\n",
      "\n",
      "\n"
     ]
    }
   ],
   "source": [
    "# TO DO: Print classification report\n",
    "# Classification Report\n",
    "dtc_report = classification_report(y_val_dtc, y_pred_dtc)\n",
    "print(\"\\nClassification Report for Decision Tree Classifier: \\n\",dtc_report)\n",
    "print()"
   ]
  },
  {
   "cell_type": "markdown",
   "id": "bf319621",
   "metadata": {},
   "source": [
    "### Questions (6 marks)\n",
    "1. How do the training and validation accuracy change depending on the method used? Explain with values.\n",
    "1. What are two reasons why the support vector machines model did not work as well as the tree-based model?\n",
    "1. How many samples were incorrectly classified in step 5.2? \n",
    "1. In this case, is maximizing precision or recall more important? Why?\n",
    "\n",
    "\n"
   ]
  },
  {
   "cell_type": "markdown",
   "id": "5b0e4ffe",
   "metadata": {},
   "source": [
    "Answer 1: For SVC model, the training accuracy was 0.68 and validation score of 0.677 for R2. And for Decision tree classifiers the R2 Scores for training was 0.994 and 0.879 for validation. From this result, we can see that Decision tree classifiers had the better results for both training and validation scores. Therefore, Decision treee classifier would be the better model.\n",
    "\n",
    "Answer 2: One of the reason why SVC did not work as well is becuase SVC are sensitive to the hyperparameters. And another reason is may due to the feature space. SVC can be influenced by feature spaces. In high dimesional spaces, models like tree-based model have an advantage.\n",
    "\n",
    "Answer 3: Three samples were incorretly classified.\n",
    "\n",
    "Answer 4: Maximizing precision is more important becuase we want to minimize false alarms and correctly classify the as much true positives as possible."
   ]
  },
  {
   "cell_type": "markdown",
   "id": "664ff8ae",
   "metadata": {},
   "source": [
    "### Process Description (4 marks)\n",
    "Please describe the process you used to create your code. Cite any websites or generative AI tools used. You can use the following questions as guidance:\n",
    "1. Where did you source your code?\n",
    "1. In what order did you complete the steps?\n",
    "1. If you used generative AI, what prompts did you use? Did you need to modify the code at all? Why or why not?\n",
    "1. Did you have any challenges? If yes, what were they? If not, what helped you to be successful?"
   ]
  },
  {
   "cell_type": "markdown",
   "id": "d0e837da",
   "metadata": {},
   "source": [
    "Answer 1: I used the class examples and previous assignment to source the code to complete this assignment.\n",
    "\n",
    "Answer 2:\n",
    "I started from step 1 to start the problem and worked down to complete this exercise.\n",
    "\n",
    "Answer 3:\n",
    "I used ChatGPT as the generative AI. I used the prompt \"How to import SVC and Decision Tree Classifier in Machine Learning \". No, i did not modify the code becuase there is a structure to importing SVC and Decision Tree Classifier, or else the import wont work.\n",
    "\n",
    "Link: https://chat.openai.com/\n",
    "\n",
    "Answer 4:\n",
    "No, I did not have any challenges. What made me successful is that, i used the previous examples shown and the examples showed in class to do this part of the assignment. By following the examples provided, I was able to compelete this part."
   ]
  },
  {
   "cell_type": "markdown",
   "id": "4cd7358d",
   "metadata": {},
   "source": [
    "## Part 3: Observations/Interpretation (3 marks)\n",
    "\n",
    "Describe any pattern you see in the results. Relate your findings to what we discussed during lectures. Include data to justify your findings.\n",
    "\n",
    "\n",
    "From my observation from part 1, for Decision tree, random forest, and gradient boosting with the max depth of 5. We see that for the decision tree the R2 score it was 0.834 for training and 0.739 for validation, and for Random forest, the R2 score was 0.897 for training and 0.841 for validation. From this we can observe that both training and validation scores improved, which makes the random forest the better model out of the two. When we compare this to the Gradient Boosting model, it was 0.988 for training score , and 0.919 for for validation score, for R2 score. This demonstrates that this model was better and got better training and validation scores compares to the other two.\n",
    "\n",
    "For part 2, we see that with the max dept of 3 for decision tree, it performed better than the SVC. Decision Tree Classifier gave the highest accuracy with training being 0.994 and validation being 0.894. These score much higher than SVC becuase has a training score of 0.680 and validation score of 0.677.\n",
    "SVC did poorly most likely due to not having any tuning for its hyperparamters.And SVC may not be the best model to represt this data.\n",
    "\n",
    "\n"
   ]
  },
  {
   "cell_type": "markdown",
   "id": "cd97b6ac",
   "metadata": {},
   "source": [
    "## Part 4: Reflection (2 marks)\n",
    "Include a sentence or two about:\n",
    "- what you liked or disliked,\n",
    "- found interesting, confusing, challangeing, motivating\n",
    "while working on this assignment.\n",
    "\n",
    "\n",
    "What I liked about this assignment is that i got a chance to work with different machine learning models, and see how they work.\n",
    "I found it interesting how the confusion matrix visual worked for part 2 using the heat map and it was interesting to see how it was labeled in the matrix."
   ]
  },
  {
   "cell_type": "markdown",
   "id": "fa21e53b",
   "metadata": {},
   "source": [
    "## Part 5: Bonus Question (3 marks)\n",
    "\n",
    "Repeat Part 2 and compare the support vector machines model used to `LinearSVC(max_iter=5000)`. Does using `LinearSVC` improve the results? Why or why not?\n",
    "\n",
    "Is `LinearSVC` a good fit for this dataset? Why or why not?"
   ]
  },
  {
   "cell_type": "code",
   "execution_count": 17,
   "id": "30fea72e",
   "metadata": {},
   "outputs": [
    {
     "name": "stderr",
     "output_type": "stream",
     "text": [
      "c:\\Users\\mevin\\anaconda3\\envs\\ensf-ml\\lib\\site-packages\\sklearn\\svm\\_classes.py:32: FutureWarning: The default value of `dual` will change from `True` to `'auto'` in 1.5. Set the value of `dual` explicitly to suppress the warning.\n",
      "  warnings.warn(\n",
      "c:\\Users\\mevin\\anaconda3\\envs\\ensf-ml\\lib\\site-packages\\sklearn\\svm\\_base.py:1242: ConvergenceWarning: Liblinear failed to converge, increase the number of iterations.\n",
      "  warnings.warn(\n",
      "c:\\Users\\mevin\\anaconda3\\envs\\ensf-ml\\lib\\site-packages\\sklearn\\svm\\_classes.py:32: FutureWarning: The default value of `dual` will change from `True` to `'auto'` in 1.5. Set the value of `dual` explicitly to suppress the warning.\n",
      "  warnings.warn(\n",
      "c:\\Users\\mevin\\anaconda3\\envs\\ensf-ml\\lib\\site-packages\\sklearn\\svm\\_base.py:1242: ConvergenceWarning: Liblinear failed to converge, increase the number of iterations.\n",
      "  warnings.warn(\n",
      "c:\\Users\\mevin\\anaconda3\\envs\\ensf-ml\\lib\\site-packages\\sklearn\\svm\\_classes.py:32: FutureWarning: The default value of `dual` will change from `True` to `'auto'` in 1.5. Set the value of `dual` explicitly to suppress the warning.\n",
      "  warnings.warn(\n",
      "c:\\Users\\mevin\\anaconda3\\envs\\ensf-ml\\lib\\site-packages\\sklearn\\svm\\_base.py:1242: ConvergenceWarning: Liblinear failed to converge, increase the number of iterations.\n",
      "  warnings.warn(\n",
      "c:\\Users\\mevin\\anaconda3\\envs\\ensf-ml\\lib\\site-packages\\sklearn\\svm\\_classes.py:32: FutureWarning: The default value of `dual` will change from `True` to `'auto'` in 1.5. Set the value of `dual` explicitly to suppress the warning.\n",
      "  warnings.warn(\n"
     ]
    },
    {
     "name": "stdout",
     "output_type": "stream",
     "text": [
      "Linear SVC - Training Accuracy:  0.8944983248104391\n",
      "Linear SVC - Validition Accuracy:  0.8655270655270655\n",
      "\n"
     ]
    },
    {
     "name": "stderr",
     "output_type": "stream",
     "text": [
      "c:\\Users\\mevin\\anaconda3\\envs\\ensf-ml\\lib\\site-packages\\sklearn\\svm\\_base.py:1242: ConvergenceWarning: Liblinear failed to converge, increase the number of iterations.\n",
      "  warnings.warn(\n",
      "c:\\Users\\mevin\\anaconda3\\envs\\ensf-ml\\lib\\site-packages\\sklearn\\svm\\_classes.py:32: FutureWarning: The default value of `dual` will change from `True` to `'auto'` in 1.5. Set the value of `dual` explicitly to suppress the warning.\n",
      "  warnings.warn(\n",
      "c:\\Users\\mevin\\anaconda3\\envs\\ensf-ml\\lib\\site-packages\\sklearn\\svm\\_base.py:1242: ConvergenceWarning: Liblinear failed to converge, increase the number of iterations.\n",
      "  warnings.warn(\n",
      "c:\\Users\\mevin\\anaconda3\\envs\\ensf-ml\\lib\\site-packages\\sklearn\\svm\\_classes.py:32: FutureWarning: The default value of `dual` will change from `True` to `'auto'` in 1.5. Set the value of `dual` explicitly to suppress the warning.\n",
      "  warnings.warn(\n",
      "c:\\Users\\mevin\\anaconda3\\envs\\ensf-ml\\lib\\site-packages\\sklearn\\svm\\_base.py:1242: ConvergenceWarning: Liblinear failed to converge, increase the number of iterations.\n",
      "  warnings.warn(\n"
     ]
    }
   ],
   "source": [
    "# TO DO: ADD YOUR CODE HERE\n",
    "from sklearn.svm import LinearSVC\n",
    "\n",
    "X_train, X_val, y_train, y_val = train_test_split(X, y, random_state=0, )\n",
    "LinearSVC_model = LinearSVC(max_iter=5000)\n",
    "LinearSVC_model.fit(X_train, y_train)\n",
    "\n",
    "LinearSVC_model_train_scores = cross_validate(LinearSVC_model, X_train, y_train,scoring='accuracy', cv=5, return_train_score=True) \n",
    "LinearSVC_model_train_scores1= LinearSVC_model_train_scores[\"train_score\"].mean()\n",
    "LinearSVC_model_train_scores2= LinearSVC_model_train_scores[\"test_score\"].mean()\n",
    "print(\"Linear SVC - Training Accuracy: \", LinearSVC_model_train_scores1)\n",
    "print(\"Linear SVC - Validition Accuracy: \", LinearSVC_model_train_scores2)\n",
    "print()\n"
   ]
  },
  {
   "cell_type": "markdown",
   "id": "aabc68a4",
   "metadata": {},
   "source": [
    "*ANSWER HERE*"
   ]
  },
  {
   "cell_type": "markdown",
   "id": "e569f1b2",
   "metadata": {},
   "source": [
    "The LinearSVC model had better results than the SVC model, becuase in the LinearSVC I got 0.894 for training and 0.8655 for validation accuracy. Therefore, using LinearSVC improved the results and it is a better fit than the SVC model. This may be due to the fact that this data be better for linear decision boundary, while the SVC has different kernal such as linear, polynomial which this dataset may not be useful."
   ]
  }
 ],
 "metadata": {
  "kernelspec": {
   "display_name": "Python 3 (ipykernel)",
   "language": "python",
   "name": "python3"
  },
  "language_info": {
   "codemirror_mode": {
    "name": "ipython",
    "version": 3
   },
   "file_extension": ".py",
   "mimetype": "text/x-python",
   "name": "python",
   "nbconvert_exporter": "python",
   "pygments_lexer": "ipython3",
   "version": "3.8.17"
  }
 },
 "nbformat": 4,
 "nbformat_minor": 5
}
